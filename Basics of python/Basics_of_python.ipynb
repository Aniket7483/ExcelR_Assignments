{
 "cells": [
  {
   "cell_type": "code",
   "execution_count": 1,
   "id": "e4bc1521-3923-4ee5-bc6d-5920c95711f5",
   "metadata": {},
   "outputs": [],
   "source": [
    "import random"
   ]
  },
  {
   "cell_type": "code",
   "execution_count": 2,
   "id": "c9c747e3-d644-4034-afae-dfe4a025c7b1",
   "metadata": {},
   "outputs": [
    {
     "name": "stdout",
     "output_type": "stream",
     "text": [
      "What is 2 * 8?\n"
     ]
    },
    {
     "name": "stdin",
     "output_type": "stream",
     "text": [
      "Enter your answer:  16\n"
     ]
    },
    {
     "name": "stdout",
     "output_type": "stream",
     "text": [
      "Correct! Well done!\n"
     ]
    }
   ],
   "source": [
    "def multiplication_quiz():\n",
    "    num1 = random.randint(1, 10)\n",
    "    num2 = random.randint(1, 10)\n",
    "    correct_product = num1 * num2\n",
    "    print(f\"What is {num1} * {num2}?\")\n",
    "    user_answer = int(input(\"Enter your answer: \"))\n",
    "    if user_answer == correct_product:\n",
    "        print(\"Correct! Well done!\")\n",
    "    else:\n",
    "        print(f\"Incorrect. The correct answer is {correct_product}.\")\n",
    "multiplication_quiz()"
   ]
  },
  {
   "cell_type": "code",
   "execution_count": 3,
   "id": "6f10639f-6797-49f3-bc6f-f505e75d5ecd",
   "metadata": {},
   "outputs": [
    {
     "name": "stdin",
     "output_type": "stream",
     "text": [
      "Enter a number to check if it's prime:  16\n"
     ]
    },
    {
     "name": "stdout",
     "output_type": "stream",
     "text": [
      "16 is not a prime number.\n"
     ]
    }
   ],
   "source": [
    "def is_prime(number):\n",
    "    # Check if the number is less than 2\n",
    "    if number <= 1:\n",
    "        return False\n",
    "    # Check if the number is 2 or 3\n",
    "    if number <= 3:\n",
    "        return True\n",
    "    # Check if the number is divisible by 2 or 3\n",
    "    if number % 2 == 0 or number % 3 == 0:\n",
    "        return False\n",
    "    # Check for divisors from 5 to the square root of the number\n",
    "    i = 5\n",
    "    while i * i <= number:\n",
    "        if number % i == 0 or number % (i + 2) == 0:\n",
    "            return False\n",
    "        i += 6\n",
    "    return True\n",
    "\n",
    "# Get input from the user\n",
    "number = int(input(\"Enter a number to check if it's prime: \"))\n",
    "\n",
    "# Check if the number is prime\n",
    "if is_prime(number):\n",
    "    print(f\"{number} is a prime number.\")\n",
    "else:\n",
    "    print(f\"{number} is not a prime number.\")\n"
   ]
  },
  {
   "cell_type": "code",
   "execution_count": 8,
   "id": "194d6e08-9ecd-4a81-ac9c-d984abb3fdd5",
   "metadata": {},
   "outputs": [
    {
     "name": "stdout",
     "output_type": "stream",
     "text": [
      "The square of 100 is 10000\n",
      "The square of 102 is 10404\n",
      "The square of 104 is 10816\n",
      "The square of 106 is 11236\n",
      "The square of 108 is 11664\n",
      "The square of 110 is 12100\n",
      "The square of 112 is 12544\n",
      "The square of 114 is 12996\n",
      "The square of 116 is 13456\n",
      "The square of 118 is 13924\n",
      "The square of 120 is 14400\n",
      "The square of 122 is 14884\n",
      "The square of 124 is 15376\n",
      "The square of 126 is 15876\n",
      "The square of 128 is 16384\n",
      "The square of 130 is 16900\n",
      "The square of 132 is 17424\n",
      "The square of 134 is 17956\n",
      "The square of 136 is 18496\n",
      "The square of 138 is 19044\n",
      "The square of 140 is 19600\n",
      "The square of 142 is 20164\n",
      "The square of 144 is 20736\n",
      "The square of 146 is 21316\n",
      "The square of 148 is 21904\n",
      "The square of 150 is 22500\n",
      "The square of 152 is 23104\n",
      "The square of 154 is 23716\n",
      "The square of 156 is 24336\n",
      "The square of 158 is 24964\n",
      "The square of 160 is 25600\n",
      "The square of 162 is 26244\n",
      "The square of 164 is 26896\n",
      "The square of 166 is 27556\n",
      "The square of 168 is 28224\n",
      "The square of 170 is 28900\n",
      "The square of 172 is 29584\n",
      "The square of 174 is 30276\n",
      "The square of 176 is 30976\n",
      "The square of 178 is 31684\n",
      "The square of 180 is 32400\n",
      "The square of 182 is 33124\n",
      "The square of 184 is 33856\n",
      "The square of 186 is 34596\n",
      "The square of 188 is 35344\n",
      "The square of 190 is 36100\n",
      "The square of 192 is 36864\n",
      "The square of 194 is 37636\n",
      "The square of 196 is 38416\n",
      "The square of 198 is 39204\n",
      "The square of 200 is 40000\n"
     ]
    }
   ],
   "source": [
    "def print_squares_of_even_numbers(start, end):\n",
    "    for i in range(start, end + 1):\n",
    "        if i % 2 == 0:  # Check if the number is even\n",
    "            square = i ** 2\n",
    "            print(f\"The square of {i} is {square}\")\n",
    "\n",
    "# Define the range\n",
    "start_range = 100\n",
    "end_range = 200\n",
    "\n",
    "# Call the function\n",
    "print_squares_of_even_numbers(start_range, end_range)"
   ]
  },
  {
   "cell_type": "code",
   "execution_count": 9,
   "id": "b8cda795-af24-49c8-964a-60aceb9c38fa",
   "metadata": {},
   "outputs": [
    {
     "name": "stdout",
     "output_type": "stream",
     "text": [
      "'this': 2\n",
      "'is': 1\n",
      "'a': 1\n",
      "'sample': 1\n",
      "'text': 2\n",
      "'will': 1\n",
      "'be': 1\n",
      "'used': 1\n",
      "'to': 1\n",
      "'demonstrate': 1\n",
      "'the': 1\n",
      "'word': 1\n",
      "'counter': 1\n"
     ]
    }
   ],
   "source": [
    "def count_words(input_text):\n",
    "    # Split the input text into words\n",
    "    words = input_text.split()\n",
    "\n",
    "    # Create a dictionary to store the word counts\n",
    "    word_counts = {}\n",
    "\n",
    "    # Iterate through the words and count their occurrences\n",
    "    for word in words:\n",
    "        word = word.strip(\",.?!:;\\\"'()\").lower()  # Normalize words by stripping punctuation and converting to lowercase\n",
    "        if word in word_counts:\n",
    "            word_counts[word] += 1\n",
    "        else:\n",
    "            word_counts[word] = 1\n",
    "\n",
    "    return word_counts\n",
    "\n",
    "# Example input text\n",
    "input_text = \"This is a sample text. This text will be used to demonstrate the word counter.\"\n",
    "\n",
    "# Count the words\n",
    "word_counts = count_words(input_text)\n",
    "\n",
    "# Print the word counts\n",
    "for word, count in word_counts.items():\n",
    "    print(f\"'{word}': {count}\")\n"
   ]
  },
  {
   "cell_type": "code",
   "execution_count": 14,
   "id": "84eea900-ea75-4c87-8ac4-6d20ea0aa523",
   "metadata": {},
   "outputs": [
    {
     "name": "stdout",
     "output_type": "stream",
     "text": [
      "True\n",
      "True\n",
      "True\n"
     ]
    }
   ],
   "source": [
    "import string\n",
    "\n",
    "def is_palindrome(input_string):\n",
    "    # Remove punctuation and spaces, and convert to lowercase\n",
    "    cleaned_string = ''.join(char.lower() for char in input_string if char.isalnum())\n",
    "\n",
    "    # Check if the cleaned string is equal to its reverse\n",
    "    return cleaned_string == cleaned_string[::-1]\n",
    "\n",
    "# Examples\n",
    "print(is_palindrome(\"A man, a plan, a canal, Panama\"))  # Should return True\n",
    "print(is_palindrome(\"ATTA\"))                         # Should return True\n",
    "print(is_palindrome(\"AUGGUA\"))                           # Should return False\n"
   ]
  },
  {
   "cell_type": "code",
   "execution_count": null,
   "id": "c8da8cbc-5b32-4e95-933c-ab8d96082d9f",
   "metadata": {},
   "outputs": [],
   "source": []
  }
 ],
 "metadata": {
  "kernelspec": {
   "display_name": "Python 3 (ipykernel)",
   "language": "python",
   "name": "python3"
  },
  "language_info": {
   "codemirror_mode": {
    "name": "ipython",
    "version": 3
   },
   "file_extension": ".py",
   "mimetype": "text/x-python",
   "name": "python",
   "nbconvert_exporter": "python",
   "pygments_lexer": "ipython3",
   "version": "3.12.1"
  }
 },
 "nbformat": 4,
 "nbformat_minor": 5
}
