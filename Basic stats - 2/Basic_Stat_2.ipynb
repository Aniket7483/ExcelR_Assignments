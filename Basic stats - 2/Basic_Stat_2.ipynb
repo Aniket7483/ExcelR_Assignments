{
 "cells": [
  {
   "cell_type": "code",
   "execution_count": 3,
   "id": "d135c2d5-57e5-486c-abdf-afd9466dd3b6",
   "metadata": {},
   "outputs": [],
   "source": [
    "import numpy as np\n",
    "import scipy.stats as stats\n",
    "\n"
   ]
  },
  {
   "cell_type": "code",
   "execution_count": 7,
   "id": "4f2eab93-de5a-4af4-a052-3b0f8fb96eba",
   "metadata": {},
   "outputs": [
    {
     "data": {
      "text/plain": [
       "array([1.13, 1.55, 1.43, 0.92, 1.25, 1.36, 1.32, 0.85, 1.07, 1.48, 1.2 ,\n",
       "       1.33, 1.18, 1.22, 1.29])"
      ]
     },
     "execution_count": 7,
     "metadata": {},
     "output_type": "execute_result"
    }
   ],
   "source": [
    "# Data\n",
    "data = np.array([1.13, 1.55, 1.43, 0.92, 1.25, 1.36, 1.32, 0.85, 1.07, 1.48, 1.20, 1.33, 1.18, 1.22, 1.29])\n",
    "data\n"
   ]
  },
  {
   "cell_type": "code",
   "execution_count": 5,
   "id": "7daef8b6-b694-4759-ad5a-febf450ea0f5",
   "metadata": {},
   "outputs": [],
   "source": [
    "# Sample statistics\n",
    "n = len(data)\n",
    "mean = np.mean(data)\n",
    "std_dev = np.std(data, ddof=1)\n",
    "\n"
   ]
  },
  {
   "cell_type": "code",
   "execution_count": 8,
   "id": "74384f37-fca5-4146-819c-20ea8a58aedc",
   "metadata": {},
   "outputs": [
    {
     "data": {
      "text/plain": [
       "15"
      ]
     },
     "execution_count": 8,
     "metadata": {},
     "output_type": "execute_result"
    }
   ],
   "source": [
    "n"
   ]
  },
  {
   "cell_type": "code",
   "execution_count": 9,
   "id": "7ba4900f-6a1b-429e-9610-4995f55536d7",
   "metadata": {},
   "outputs": [
    {
     "data": {
      "text/plain": [
       "1.2386666666666666"
      ]
     },
     "execution_count": 9,
     "metadata": {},
     "output_type": "execute_result"
    }
   ],
   "source": [
    "mean"
   ]
  },
  {
   "cell_type": "code",
   "execution_count": 10,
   "id": "3a168000-59b8-4abc-8ae2-f4a0b3b6e5f4",
   "metadata": {},
   "outputs": [
    {
     "data": {
      "text/plain": [
       "0.19316412956959936"
      ]
     },
     "execution_count": 10,
     "metadata": {},
     "output_type": "execute_result"
    }
   ],
   "source": [
    "std_dev"
   ]
  },
  {
   "cell_type": "markdown",
   "id": "286c61b4-28b5-44a3-9ba9-592cd49e63b6",
   "metadata": {},
   "source": [
    "# 99% confidence interval"
   ]
  },
  {
   "cell_type": "code",
   "execution_count": 13,
   "id": "30ae5f30-934b-4986-b17e-c3e63f331848",
   "metadata": {},
   "outputs": [],
   "source": [
    "\n",
    "confidence_level = 0.99\n",
    "alpha = 1 - confidence_level\n",
    "t_critical = stats.t.ppf(1 - alpha/2, df=n-1)\n",
    "margin_of_error = t_critical * (std_dev / np.sqrt(n))\n"
   ]
  },
  {
   "cell_type": "code",
   "execution_count": 12,
   "id": "45ea7c4a-5660-4748-930c-8e141d55530b",
   "metadata": {},
   "outputs": [
    {
     "data": {
      "text/plain": [
       "2.97684273411266"
      ]
     },
     "execution_count": 12,
     "metadata": {},
     "output_type": "execute_result"
    }
   ],
   "source": [
    "t_critical "
   ]
  },
  {
   "cell_type": "code",
   "execution_count": 15,
   "id": "bb4797f7-eeb2-4723-95b2-164b5b140937",
   "metadata": {},
   "outputs": [
    {
     "data": {
      "text/plain": [
       "0.1484693282152996"
      ]
     },
     "execution_count": 15,
     "metadata": {},
     "output_type": "execute_result"
    }
   ],
   "source": [
    "margin_of_error"
   ]
  },
  {
   "cell_type": "code",
   "execution_count": 14,
   "id": "b5e45ad7-e991-482a-999f-bc269b2c8c3c",
   "metadata": {},
   "outputs": [
    {
     "data": {
      "text/plain": [
       "(1.090197338451367, 1.3871359948819662)"
      ]
     },
     "execution_count": 14,
     "metadata": {},
     "output_type": "execute_result"
    }
   ],
   "source": [
    "ci_lower = mean - margin_of_error\n",
    "ci_upper = mean + margin_of_error\n",
    "\n",
    "(ci_lower, ci_upper)"
   ]
  },
  {
   "cell_type": "code",
   "execution_count": 16,
   "id": "9264d84e-fffa-4905-89be-dd897a617ef3",
   "metadata": {},
   "outputs": [],
   "source": [
    "pop_std_dev = 0.2"
   ]
  },
  {
   "cell_type": "markdown",
   "id": "71883578-19d2-4379-a4bf-cc4ce6eb3888",
   "metadata": {},
   "source": [
    "# 99% confidence interval"
   ]
  },
  {
   "cell_type": "code",
   "execution_count": 17,
   "id": "b6318fc9-0469-4009-8229-b9cb6079deea",
   "metadata": {},
   "outputs": [],
   "source": [
    "\n",
    "z_critical = stats.norm.ppf(1 - alpha/2)\n",
    "margin_of_error_pop = z_critical * (pop_std_dev / np.sqrt(n))"
   ]
  },
  {
   "cell_type": "code",
   "execution_count": 19,
   "id": "25c5cc27-801b-43b8-a60f-4affc1751268",
   "metadata": {},
   "outputs": [
    {
     "data": {
      "text/plain": [
       "2.5758293035489004"
      ]
     },
     "execution_count": 19,
     "metadata": {},
     "output_type": "execute_result"
    }
   ],
   "source": [
    "z_critical"
   ]
  },
  {
   "cell_type": "code",
   "execution_count": 20,
   "id": "f4aa1248-dadc-4574-b120-5e5ea50ff5a0",
   "metadata": {},
   "outputs": [
    {
     "data": {
      "text/plain": [
       "0.13301525327090588"
      ]
     },
     "execution_count": 20,
     "metadata": {},
     "output_type": "execute_result"
    }
   ],
   "source": [
    "margin_of_error_pop"
   ]
  },
  {
   "cell_type": "code",
   "execution_count": 18,
   "id": "c5063cb8-3259-4c84-99a9-587074f43bce",
   "metadata": {},
   "outputs": [
    {
     "data": {
      "text/plain": [
       "(1.1056514133957607, 1.3716819199375725)"
      ]
     },
     "execution_count": 18,
     "metadata": {},
     "output_type": "execute_result"
    }
   ],
   "source": [
    "ci_lower_pop = mean - margin_of_error_pop\n",
    "ci_upper_pop = mean + margin_of_error_pop\n",
    "\n",
    "(ci_lower_pop, ci_upper_pop)\n"
   ]
  },
  {
   "cell_type": "code",
   "execution_count": null,
   "id": "7b76c672-c0bb-47a6-84fd-203f7ca8692e",
   "metadata": {},
   "outputs": [],
   "source": []
  },
  {
   "cell_type": "code",
   "execution_count": null,
   "id": "992fb3ef-889c-4c71-a19f-b669112f389d",
   "metadata": {},
   "outputs": [],
   "source": []
  }
 ],
 "metadata": {
  "kernelspec": {
   "display_name": "Python 3 (ipykernel)",
   "language": "python",
   "name": "python3"
  },
  "language_info": {
   "codemirror_mode": {
    "name": "ipython",
    "version": 3
   },
   "file_extension": ".py",
   "mimetype": "text/x-python",
   "name": "python",
   "nbconvert_exporter": "python",
   "pygments_lexer": "ipython3",
   "version": "3.12.1"
  }
 },
 "nbformat": 4,
 "nbformat_minor": 5
}
