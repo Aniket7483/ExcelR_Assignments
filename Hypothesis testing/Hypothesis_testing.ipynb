{
 "cells": [
  {
   "cell_type": "markdown",
   "id": "8db59a44-4b6c-4fc9-a35b-7ded7ff7d9fc",
   "metadata": {},
   "source": [
    "# Chisquare Test"
   ]
  },
  {
   "cell_type": "code",
   "execution_count": 1,
   "id": "c0a9de52-5a5e-4ab8-892b-baf9ef49a809",
   "metadata": {},
   "outputs": [
    {
     "name": "stdout",
     "output_type": "stream",
     "text": [
      "Chi-Square Statistic: 5.638227513227513\n",
      "Critical Value (alpha = 0.05): 9.487729036781154\n",
      "p-value: 0.22784371130697179\n",
      "Reject Null Hypothesis: False\n"
     ]
    }
   ],
   "source": [
    "import numpy as np\n",
    "import scipy.stats as stats\n",
    "\n",
    "# Observed frequencies\n",
    "observed = np.array([[50, 70],\n",
    "                     [80, 100],\n",
    "                     [60, 90],\n",
    "                     [30, 50],\n",
    "                     [20, 50]])\n",
    "\n",
    "# Row and column sums\n",
    "row_sums = observed.sum(axis=1)\n",
    "col_sums = observed.sum(axis=0)\n",
    "grand_total = observed.sum()\n",
    "\n",
    "# Expected frequencies\n",
    "expected = np.outer(row_sums, col_sums) / grand_total\n",
    "\n",
    "# Chi-Square statistic\n",
    "chi_square_stat = ((observed - expected) ** 2 / expected).sum()\n",
    "\n",
    "# Degrees of freedom\n",
    "df = (len(row_sums) - 1) * (len(col_sums) - 1)\n",
    "\n",
    "# Critical value at alpha = 0.05\n",
    "alpha = 0.05\n",
    "critical_value = stats.chi2.ppf(1 - alpha, df)\n",
    "\n",
    "# p-value\n",
    "p_value = 1 - stats.chi2.cdf(chi_square_stat, df)\n",
    "\n",
    "# Decision\n",
    "reject_null = chi_square_stat > critical_value\n",
    "\n",
    "# Output results\n",
    "print(f\"Chi-Square Statistic: {chi_square_stat}\")\n",
    "print(f\"Critical Value (alpha = {alpha}): {critical_value}\")\n",
    "print(f\"p-value: {p_value}\")\n",
    "print(f\"Reject Null Hypothesis: {reject_null}\")\n"
   ]
  },
  {
   "cell_type": "code",
   "execution_count": 2,
   "id": "85b669f8-b2c9-4d62-bc34-849d57dde2c7",
   "metadata": {},
   "outputs": [
    {
     "name": "stdout",
     "output_type": "stream",
     "text": [
      "Chi-Square Statistic: 5.638227513227513\n",
      "Critical Value (alpha = 0.05): 9.487729036781154\n",
      "p-value: 0.22784371130697179\n",
      "Reject Null Hypothesis: False\n"
     ]
    }
   ],
   "source": [
    "import numpy as np\n",
    "import scipy.stats as stats\n",
    "\n",
    "# Observed frequencies\n",
    "observed = np.array([[50, 70],\n",
    "                     [80, 100],\n",
    "                     [60, 90],\n",
    "                     [30, 50],\n",
    "                     [20, 50]])\n",
    "\n",
    "# Row and column sums\n",
    "row_sums = observed.sum(axis=1)\n",
    "col_sums = observed.sum(axis=0)\n",
    "grand_total = observed.sum()\n",
    "\n",
    "# Expected frequencies\n",
    "expected = np.outer(row_sums, col_sums) / grand_total\n",
    "\n",
    "# Chi-Square statistic\n",
    "chi_square_stat = ((observed - expected) ** 2 / expected).sum()\n",
    "\n",
    "# Degrees of freedom\n",
    "df = (len(row_sums) - 1) * (len(col_sums) - 1)\n",
    "\n",
    "# Critical value at alpha = 0.05\n",
    "alpha = 0.05\n",
    "critical_value = stats.chi2.ppf(1 - alpha, df)\n",
    "\n",
    "# p-value\n",
    "p_value = 1 - stats.chi2.cdf(chi_square_stat, df)\n",
    "\n",
    "# Decision\n",
    "reject_null = chi_square_stat > critical_value\n",
    "\n",
    "# Output results\n",
    "print(f\"Chi-Square Statistic: {chi_square_stat}\")\n",
    "print(f\"Critical Value (alpha = {alpha}): {critical_value}\")\n",
    "print(f\"p-value: {p_value}\")\n",
    "print(f\"Reject Null Hypothesis: {reject_null}\")\n"
   ]
  },
  {
   "cell_type": "markdown",
   "id": "14759281-c50c-4b41-8348-004adfd10271",
   "metadata": {},
   "source": [
    "# hypothesis Testing"
   ]
  },
  {
   "cell_type": "code",
   "execution_count": 3,
   "id": "1810da25-222b-4a2a-a2b3-8e84420b7dd7",
   "metadata": {},
   "outputs": [
    {
     "data": {
      "text/plain": [
       "-38.0"
      ]
     },
     "execution_count": 3,
     "metadata": {},
     "output_type": "execute_result"
    }
   ],
   "source": [
    "import scipy.stats as stats\n",
    "\n",
    "# Given values\n",
    "sample_mean = 3050\n",
    "theoretical_mean = 4000\n",
    "std_dev = 125\n",
    "sample_size = 25\n",
    "\n",
    "# Calculate the test statistic\n",
    "test_statistic = (sample_mean - theoretical_mean) / (std_dev / (sample_size ** 0.5))\n",
    "\n",
    "# Output the test statistic\n",
    "test_statistic\n"
   ]
  },
  {
   "cell_type": "code",
   "execution_count": 4,
   "id": "6d754493-d8fd-4cdf-9ae7-6631acd57f5e",
   "metadata": {},
   "outputs": [
    {
     "data": {
      "text/plain": [
       "1.6448536269514722"
      ]
     },
     "execution_count": 4,
     "metadata": {},
     "output_type": "execute_result"
    }
   ],
   "source": [
    "# Find the critical value for a one-tailed test at alpha = 0.05\n",
    "alpha = 0.05\n",
    "critical_value = stats.norm.ppf(1 - alpha)\n",
    "\n",
    "# Output the critical value\n",
    "critical_value\n"
   ]
  },
  {
   "cell_type": "code",
   "execution_count": 5,
   "id": "fd4d8991-aee5-4809-aa7b-637df0e0fe7b",
   "metadata": {},
   "outputs": [
    {
     "data": {
      "text/plain": [
       "'Fail to Reject H0'"
      ]
     },
     "execution_count": 5,
     "metadata": {},
     "output_type": "execute_result"
    }
   ],
   "source": [
    "# Make a decision\n",
    "decision = \"Reject H0\" if test_statistic > critical_value else \"Fail to Reject H0\"\n",
    "\n",
    "# Output the decision\n",
    "decision\n"
   ]
  },
  {
   "cell_type": "code",
   "execution_count": 6,
   "id": "7b83fc44-58eb-4c1f-9987-02b5ec5f552a",
   "metadata": {},
   "outputs": [
    {
     "name": "stdout",
     "output_type": "stream",
     "text": [
      "Test Statistic: -38.0\n",
      "Critical Value: 1.6448536269514722\n",
      "Decision: Fail to Reject H0\n"
     ]
    }
   ],
   "source": [
    "import scipy.stats as stats\n",
    "\n",
    "# Given values\n",
    "sample_mean = 3050\n",
    "theoretical_mean = 4000\n",
    "std_dev = 125\n",
    "sample_size = 25\n",
    "\n",
    "# Calculate the test statistic\n",
    "test_statistic = (sample_mean - theoretical_mean) / (std_dev / (sample_size ** 0.5))\n",
    "\n",
    "# Find the critical value for a one-tailed test at alpha = 0.05\n",
    "alpha = 0.05\n",
    "critical_value = stats.norm.ppf(1 - alpha)\n",
    "\n",
    "# Make a decision\n",
    "decision = \"Reject H0\" if test_statistic > critical_value else \"Fail to Reject H0\"\n",
    "\n",
    "# Output the results\n",
    "print(f\"Test Statistic: {test_statistic}\")\n",
    "print(f\"Critical Value: {critical_value}\")\n",
    "print(f\"Decision: {decision}\")\n"
   ]
  },
  {
   "cell_type": "code",
   "execution_count": null,
   "id": "e8391b25-c171-4bc3-acec-3b730100b59d",
   "metadata": {},
   "outputs": [],
   "source": []
  }
 ],
 "metadata": {
  "kernelspec": {
   "display_name": "Python 3 (ipykernel)",
   "language": "python",
   "name": "python3"
  },
  "language_info": {
   "codemirror_mode": {
    "name": "ipython",
    "version": 3
   },
   "file_extension": ".py",
   "mimetype": "text/x-python",
   "name": "python",
   "nbconvert_exporter": "python",
   "pygments_lexer": "ipython3",
   "version": "3.12.1"
  }
 },
 "nbformat": 4,
 "nbformat_minor": 5
}
